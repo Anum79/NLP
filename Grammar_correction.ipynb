{
  "nbformat": 4,
  "nbformat_minor": 0,
  "metadata": {
    "colab": {
      "provenance": [],
      "include_colab_link": true
    },
    "kernelspec": {
      "name": "python3",
      "display_name": "Python 3"
    },
    "language_info": {
      "name": "python"
    }
  },
  "cells": [
    {
      "cell_type": "markdown",
      "metadata": {
        "id": "view-in-github",
        "colab_type": "text"
      },
      "source": [
        "<a href=\"https://colab.research.google.com/github/Anum79/NLP/blob/main/Grammar_correction.ipynb\" target=\"_parent\"><img src=\"https://colab.research.google.com/assets/colab-badge.svg\" alt=\"Open In Colab\"/></a>"
      ]
    },
    {
      "cell_type": "code",
      "execution_count": null,
      "metadata": {
        "id": "5Waom_SnLJQY"
      },
      "outputs": [],
      "source": [
        "import openai\n",
        "openai.api_key = \"key\"\n",
        "\n",
        "def edit_text(text):\n",
        "    model_engine = \"text-davinci-002\"\n",
        "    prompt = (f\"Please proofread and edit the following text:\\n\\n{text}\\n\\n\"\n",
        "              \"Make any necessary corrections to spelling, grammar, and punctuation. \"\n",
        "              \"Provide feedback on the structure and style of the text, and offer any suggestions \"\n",
        "              \"for improving the content of the text. Thank you!\")\n",
        "    response = openai.Completion.create(\n",
        "        engine=model_engine,\n",
        "        prompt=prompt,\n",
        "        temperature=0.7,\n",
        "        max_tokens=1024,\n",
        "        n=1,\n",
        "        stop=None,\n",
        "        frequency_penalty=0,\n",
        "        presence_penalty=0\n",
        "    )\n",
        "    return response.choices[0].text.strip()\n",
        "\n",
        "# Example usage:\n",
        "text = \"The developing brains of children are supported by responsive and sensitive interactions with caregivers and parents.\"\n",
        "edited_text = edit_text(text)\n",
        "print(edited_text)"
      ]
    }
  ]
}