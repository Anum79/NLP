{
  "nbformat": 4,
  "nbformat_minor": 0,
  "metadata": {
    "colab": {
      "name": "Class.ipynb",
      "provenance": [],
      "machine_shape": "hm",
      "include_colab_link": true
    },
    "kernelspec": {
      "name": "python3",
      "display_name": "Python 3"
    },
    "language_info": {
      "name": "python"
    },
    "accelerator": "GPU",
    "gpuClass": "standard"
  },
  "cells": [
    {
      "cell_type": "markdown",
      "metadata": {
        "id": "view-in-github",
        "colab_type": "text"
      },
      "source": [
        "<a href=\"https://colab.research.google.com/github/Anum79/NLP/blob/main/Class.ipynb\" target=\"_parent\"><img src=\"https://colab.research.google.com/assets/colab-badge.svg\" alt=\"Open In Colab\"/></a>"
      ]
    },
    {
      "cell_type": "code",
      "source": [
        "class Question:\n",
        "  def __init__(self, prompt, answer):\n",
        "    self.prompt = prompt\n",
        "    self.answer = answer\n",
        "\n"
      ],
      "metadata": {
        "id": "4rB1fPZcr-2w"
      },
      "execution_count": null,
      "outputs": []
    },
    {
      "cell_type": "code",
      "source": [
        "question_prompts = [\"What color are apples?\\n(a) Red/Green\\n(b) Purple\\n(c) Orange\\n\\n\",\n",
        "                    \"What color are Bananas?\\n(a) Teal\\n(b) Magenta\\n(c) Yellow\\n\\n\",\n",
        "                    \"What color are strawberries?\\n(a) Yellow\\n (b) Red\\n(c) Blue\\n\\n\"]"
      ],
      "metadata": {
        "id": "-UGLOvq4wrPe"
      },
      "execution_count": null,
      "outputs": []
    },
    {
      "cell_type": "code",
      "source": [
        "questions = [Question(question_prompts[0], 'a'),\n",
        "            Question(question_prompts[1], 'c'),\n",
        "            Question(question_prompts[2], 'b')]"
      ],
      "metadata": {
        "id": "nW-ISTscw7eL"
      },
      "execution_count": null,
      "outputs": []
    },
    {
      "cell_type": "code",
      "source": [
        "def run_test(questions):\n",
        "  score = 0\n",
        "  for question in questions:\n",
        "    answer = input(question.prompt)\n",
        "    if answer == question.answer:\n",
        "      score += 1\n",
        "  print(\"you got\" + str(score) + \"/\" + str(len(questions)) + \"correct\")"
      ],
      "metadata": {
        "id": "Fy_0BlcY1WsI"
      },
      "execution_count": null,
      "outputs": []
    },
    {
      "cell_type": "code",
      "source": [
        "run_test(questions)"
      ],
      "metadata": {
        "colab": {
          "base_uri": "https://localhost:8080/"
        },
        "id": "02Pxzfhj4FxW",
        "outputId": "339f2f93-568d-465e-ac1e-377bb64c0501"
      },
      "execution_count": null,
      "outputs": [
        {
          "output_type": "stream",
          "name": "stdout",
          "text": [
            "What color are apples?\n",
            "(a) Red/Green\n",
            "(b) Purple\n",
            "(c) Orange\n",
            "\n",
            "a\n",
            "What color are Bananas?\n",
            "(a) Teal\n",
            "(b) Magenta\n",
            "(c) Yellow\n",
            "\n",
            "c\n",
            "What color are strawberries?\n",
            "(a) Yellow\n",
            " (b) Red\n",
            "(c) Blue\n",
            "\n",
            "b\n",
            "you got3/3correct\n"
          ]
        }
      ]
    }
  ]
}